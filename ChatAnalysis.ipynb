{
 "cells": [
  {
   "cell_type": "markdown",
   "id": "06c20c3e-c73b-434e-9ebb-3c4d789fc87a",
   "metadata": {
    "panel-layout": {
     "height": 60.59375,
     "visible": true,
     "width": 100
    }
   },
   "source": [
    "# Extract"
   ]
  },
  {
   "cell_type": "markdown",
   "id": "36593238-2b55-40a3-a8ef-0b72c89ceb98",
   "metadata": {
    "panel-layout": {
     "height": 44.09375,
     "visible": true,
     "width": 100
    }
   },
   "source": [
    "### Install libraries"
   ]
  },
  {
   "cell_type": "code",
   "execution_count": 1,
   "id": "dcd5271e-3513-40cf-a70d-6a37bb14dcea",
   "metadata": {
    "scrolled": true
   },
   "outputs": [
    {
     "name": "stdout",
     "output_type": "stream",
     "text": [
      "Requirement already satisfied: emoji in /home/unbellanced/anaconda3/lib/python3.12/site-packages (2.14.0)\n",
      "Requirement already satisfied: kaleido in /home/unbellanced/anaconda3/lib/python3.12/site-packages (0.2.1)\n"
     ]
    }
   ],
   "source": [
    "!pip install emoji\n",
    "!pip install -U kaleido"
   ]
  },
  {
   "cell_type": "markdown",
   "id": "93812442-8b1b-451e-957e-698567a7c904",
   "metadata": {
    "panel-layout": {
     "height": 44.09375,
     "visible": true,
     "width": 100
    }
   },
   "source": [
    "### Import libraries"
   ]
  },
  {
   "cell_type": "code",
   "execution_count": 2,
   "id": "62c91632-c62c-48d9-86f6-8af434804edd",
   "metadata": {},
   "outputs": [],
   "source": [
    "import re\n",
    "import emoji\n",
    "import pandas as pd\n",
    "import plotly.express as px\n",
    "import plotly.io as pio\n",
    "pio.renderers.default = \"png\""
   ]
  },
  {
   "cell_type": "markdown",
   "id": "9b57cb01-1064-4ce3-85d9-deb79c1b6456",
   "metadata": {
    "panel-layout": {
     "height": 107.359375,
     "visible": true,
     "width": 100
    }
   },
   "source": [
    "### Get File Name\n",
    "After exporting your chat from whatsapp, copy the file's content and replace the dummy messages inside of messages.txt (found inside the project's folder) with the copied messages. You can CTRL + A, CTRL + C to easily copy all of the text inside the file.\n",
    "\n",
    "The verify_file function verifies that the file has a txt extension and that it exists within the folder. This should always be the case if you use the above method to provide the chat messages, however, you could also alternatively move your exported chat messages into the project folder and replace \"messages.txt\" that's at the end of the bellow code block with the file name of your text file instead.\n",
    "\n",
    "Whatever method you choose to use, the notebook requires that it has access to a text file containing the exported whatsapp messages."
   ]
  },
  {
   "cell_type": "code",
   "execution_count": 3,
   "id": "911933ca-c393-4ac9-bfb8-cdcdd5113b67",
   "metadata": {},
   "outputs": [
    {
     "name": "stdout",
     "output_type": "stream",
     "text": [
      "✅ File accepted\n"
     ]
    }
   ],
   "source": [
    "def verify_file(name) -> None:\n",
    "    \"\"\"Makes sure the file name checks out\"\"\"\n",
    "\n",
    "    # Make sure file extension is correct\n",
    "    if not re.search(r\"^.+\\.txt$\", name):\n",
    "        print(\"❌ Invalid text file\")\n",
    "    else:\n",
    "        # Make sure that the file exists\n",
    "        try:\n",
    "            with open(name) as file:\n",
    "                print(\"✅ File accepted\")\n",
    "                return name\n",
    "        except FileNotFoundError:\n",
    "            print(\"❌ File does not exist\")\n",
    "            \n",
    "\n",
    "text_file_name = verify_file(\"messages.txt\")"
   ]
  },
  {
   "cell_type": "markdown",
   "id": "22273c6d-f28e-497e-ae9b-0c101f355904",
   "metadata": {
    "panel-layout": {
     "height": 44.09375,
     "visible": true,
     "width": 100
    }
   },
   "source": [
    "### Convert Text file to DataFrame"
   ]
  },
  {
   "cell_type": "markdown",
   "id": "7e55eacf-76df-4edf-8a91-4032668d2d75",
   "metadata": {},
   "source": [
    "This is where the text file is going to be parsed and converted into a pandas dataframe so it's easy to work with."
   ]
  },
  {
   "cell_type": "code",
   "execution_count": 4,
   "id": "dfab0cb7-8635-4711-ab28-6cda544e9067",
   "metadata": {},
   "outputs": [
    {
     "data": {
      "text/html": [
       "<div>\n",
       "<style scoped>\n",
       "    .dataframe tbody tr th:only-of-type {\n",
       "        vertical-align: middle;\n",
       "    }\n",
       "\n",
       "    .dataframe tbody tr th {\n",
       "        vertical-align: top;\n",
       "    }\n",
       "\n",
       "    .dataframe thead th {\n",
       "        text-align: right;\n",
       "    }\n",
       "</style>\n",
       "<table border=\"1\" class=\"dataframe\">\n",
       "  <thead>\n",
       "    <tr style=\"text-align: right;\">\n",
       "      <th></th>\n",
       "      <th>date</th>\n",
       "      <th>time</th>\n",
       "      <th>name</th>\n",
       "      <th>message</th>\n",
       "    </tr>\n",
       "  </thead>\n",
       "  <tbody>\n",
       "    <tr>\n",
       "      <th>0</th>\n",
       "      <td>12/17/24</td>\n",
       "      <td>12:00 PM</td>\n",
       "      <td>Jim</td>\n",
       "      <td>Hi</td>\n",
       "    </tr>\n",
       "    <tr>\n",
       "      <th>1</th>\n",
       "      <td>12/18/24</td>\n",
       "      <td>12:00 PM</td>\n",
       "      <td>Jim</td>\n",
       "      <td>You deleted this message</td>\n",
       "    </tr>\n",
       "    <tr>\n",
       "      <th>2</th>\n",
       "      <td>12/18/24</td>\n",
       "      <td>12:00 PM</td>\n",
       "      <td>Jim</td>\n",
       "      <td>&lt;Media omitted&gt;</td>\n",
       "    </tr>\n",
       "    <tr>\n",
       "      <th>3</th>\n",
       "      <td>12/18/24</td>\n",
       "      <td>12:01 PM</td>\n",
       "      <td>Carlos</td>\n",
       "      <td>Hi 👀</td>\n",
       "    </tr>\n",
       "    <tr>\n",
       "      <th>4</th>\n",
       "      <td>12/18/24</td>\n",
       "      <td>12:03 PM</td>\n",
       "      <td>Jim</td>\n",
       "      <td>How are you? What have you been up to?</td>\n",
       "    </tr>\n",
       "    <tr>\n",
       "      <th>5</th>\n",
       "      <td>12/18/24</td>\n",
       "      <td>12:04 PM</td>\n",
       "      <td>Carlos</td>\n",
       "      <td>Nothing much Just vibing really &lt;This message ...</td>\n",
       "    </tr>\n",
       "    <tr>\n",
       "      <th>6</th>\n",
       "      <td>12/18/24</td>\n",
       "      <td>12:10 PM</td>\n",
       "      <td>Jim</td>\n",
       "      <td>Boring</td>\n",
       "    </tr>\n",
       "    <tr>\n",
       "      <th>7</th>\n",
       "      <td>12/18/24</td>\n",
       "      <td>12:10 PM</td>\n",
       "      <td>Jim</td>\n",
       "      <td>&lt;Media omitted&gt;</td>\n",
       "    </tr>\n",
       "    <tr>\n",
       "      <th>8</th>\n",
       "      <td>12/18/24</td>\n",
       "      <td>12:12 PM</td>\n",
       "      <td>Carlos</td>\n",
       "      <td>I'm craving some coffee right now</td>\n",
       "    </tr>\n",
       "    <tr>\n",
       "      <th>9</th>\n",
       "      <td>12/18/24</td>\n",
       "      <td>12:13 PM</td>\n",
       "      <td>Jim</td>\n",
       "      <td>Go get some then</td>\n",
       "    </tr>\n",
       "  </tbody>\n",
       "</table>\n",
       "</div>"
      ],
      "text/plain": [
       "       date      time    name  \\\n",
       "0  12/17/24  12:00 PM     Jim   \n",
       "1  12/18/24  12:00 PM     Jim   \n",
       "2  12/18/24  12:00 PM     Jim   \n",
       "3  12/18/24  12:01 PM  Carlos   \n",
       "4  12/18/24  12:03 PM     Jim   \n",
       "5  12/18/24  12:04 PM  Carlos   \n",
       "6  12/18/24  12:10 PM     Jim   \n",
       "7  12/18/24  12:10 PM     Jim   \n",
       "8  12/18/24  12:12 PM  Carlos   \n",
       "9  12/18/24  12:13 PM     Jim   \n",
       "\n",
       "                                             message  \n",
       "0                                                 Hi  \n",
       "1                           You deleted this message  \n",
       "2                                    <Media omitted>  \n",
       "3                                               Hi 👀  \n",
       "4             How are you? What have you been up to?  \n",
       "5  Nothing much Just vibing really <This message ...  \n",
       "6                                             Boring  \n",
       "7                                    <Media omitted>  \n",
       "8                  I'm craving some coffee right now  \n",
       "9                                   Go get some then  "
      ]
     },
     "execution_count": 4,
     "metadata": {},
     "output_type": "execute_result"
    }
   ],
   "source": [
    "def text_to_df(file_name) -> pd.DataFrame:\n",
    "    \"\"\"Takes the whatsapp formatted file and extracts information from it\n",
    "    Information is returned as a list of dictionaries containing keys: date,time,name,message\n",
    "    \"\"\"\n",
    "\n",
    "    data = []\n",
    "    with open(file_name, encoding='utf-8') as file:\n",
    "        for row in file:\n",
    "            # If normal whatsapp format, match will work and you'll get correct values\n",
    "            try:\n",
    "                match = re.search(\n",
    "                    r\"^(\\d{1,2}/\\d{1,2}/\\d{2}),\\s(\\d{1,2}:\\d{2})\\s(AM|PM)\\s-\\s([^:]*):\\s(.*)$\",\n",
    "                    row,\n",
    "                )\n",
    "                date, time, period, name, message = (\n",
    "                    match.group(1),\n",
    "                    match.group(2),\n",
    "                    match.group(3),\n",
    "                    match.group(4),\n",
    "                    match.group(5),\n",
    "                )\n",
    "            # If match doesn't work, raised error will cause this code to work instead\n",
    "            except:\n",
    "                # If it's a whatsapp notification instead of a message, skip it\n",
    "                if re.search(\n",
    "                    r\"^(\\d{1,2}/\\d{1,2}/\\d{2}),\\s(\\d{1,2}:\\d{2})\\s(AM|PM)\\s-\\s\", row\n",
    "                ):\n",
    "                    continue\n",
    "                # If it's not, then it's probably a new line of a message, so add it to the last message\n",
    "                data[len(data) - 1][\"message\"] += f\" {row.rstrip()}\"\n",
    "                continue\n",
    "\n",
    "            # If it's neither a notification nor part of previous message, then it's a normal message which you will append to the list of dicts\n",
    "            data.append(\n",
    "                {\n",
    "                    \"date\": date,\n",
    "                    \"time\": f\"{time} {period}\",\n",
    "                    \"name\": name,\n",
    "                    \"message\": message,\n",
    "                }\n",
    "            )\n",
    "    return pd.DataFrame(data)\n",
    "\n",
    "df = text_to_df(text_file_name) \n",
    "\n",
    "# Resulting DataFrame:\n",
    "df.head(10)"
   ]
  },
  {
   "cell_type": "markdown",
   "id": "a0292fa7-d115-49db-9f18-97615cc24ee4",
   "metadata": {
    "panel-layout": {
     "height": 60.59375,
     "visible": true,
     "width": 100
    }
   },
   "source": [
    "# Transform"
   ]
  },
  {
   "cell_type": "markdown",
   "id": "b132e675-adf2-44b3-80b6-20d881444b51",
   "metadata": {
    "panel-layout": {
     "height": 44.09375,
     "visible": true,
     "width": 100
    }
   },
   "source": [
    "### Fix column data types"
   ]
  },
  {
   "cell_type": "code",
   "execution_count": 5,
   "id": "4df246b4-eb96-4b2d-8534-04e7621b11c4",
   "metadata": {},
   "outputs": [],
   "source": [
    "# Fix data types for date and name columns\n",
    "df['date'] = pd.to_datetime(df['date'], format='%m/%d/%y')\n",
    "df['time'] = pd.to_datetime(df['time'], format='%I:%M %p').dt.strftime('%H:%M')\n",
    "df['name'] = df['name'].astype('category')"
   ]
  },
  {
   "cell_type": "markdown",
   "id": "45898027-48f8-4415-a62c-02d77095b146",
   "metadata": {},
   "source": [
    "### Optional Name Manipulation"
   ]
  },
  {
   "cell_type": "markdown",
   "id": "1d3db4cd-5987-45d7-bb34-5c1399600e73",
   "metadata": {},
   "source": [
    "If you want to chage how the name of a person looks like in the analyzed data, you can uncomment (remove the #) the code bellow to do so.\n",
    "\n",
    "This can also be used in cases where a person changed their number in a group chat and you want to change their previous name to be the same as the current name so the chats aren't counted as coming from two different people.\n",
    "\n",
    "To change the name, replace the text inside the quotes \"New Name\" with the new name you wish to give the sender, and replace the text inside the quotes \"Current Name\" with the name found in the whatsapp exported chat file.\n",
    "\n",
    "If you wish to change multiple names, just copy the code and paste it on a new line and do the same. You can do so as many times as you want."
   ]
  },
  {
   "cell_type": "code",
   "execution_count": 6,
   "id": "8e93dbc8-e08c-4610-a104-ab7e5a2f6d29",
   "metadata": {},
   "outputs": [],
   "source": [
    "#df['name'] = df['name'].apply(lambda x: \"New Name\" if x == \"Current Name\" else x)"
   ]
  },
  {
   "cell_type": "markdown",
   "id": "21e5d270-cd7d-4aa8-96fa-511022ce45bf",
   "metadata": {
    "panel-layout": {
     "height": 44.09375,
     "visible": true,
     "width": 100
    }
   },
   "source": [
    "### Feature Engineering"
   ]
  },
  {
   "cell_type": "markdown",
   "id": "85f691c5-8a9e-4c21-b154-2b5bf43a829f",
   "metadata": {},
   "source": [
    "Here, we're creating new columns that represent different features of the message column, like is the message deleted, is it edited, how long is it, how many emojis does it contain, and is it an ommited voice recording/photo/video/sticker/gif.\n",
    "\n",
    "This will allow for us to derive insights and create visuals.\n",
    "\n",
    "Down in the code, you can also see \"positive_patterns\" and \"negative_patterns\" variables. There store a list of regex patterns that will be used to find messages that contain positive or negative mentions like \"I like\",\"I really enjoy\",\"I actually adore\", \"I really hate\", \"I'm actually annoyed by\", etc. These patterns are compiled toghether and used to create dataframes containing only those positive/netagive mentions in their messages.\n",
    "This allows you to easily find information about a sender's likes/dislikes that they mentioned to you in the chat.\n",
    "\n",
    "If you want to add to the patterns or completely replace them to filter for other things, you can do so if you know how to write regex, or you could ask some AI to help you write it."
   ]
  },
  {
   "cell_type": "code",
   "execution_count": 7,
   "id": "4847642f-650a-427b-b91d-c75a14f13e12",
   "metadata": {},
   "outputs": [],
   "source": [
    "# Make columns that:\n",
    "# Show if message was edited\n",
    "def is_edited(text: str) -> bool:\n",
    "    text = text.strip()\n",
    "    if text.endswith(\"<You edited this message>\") or text.endswith(\"<This message was edited>\"):\n",
    "        return True\n",
    "    else:\n",
    "        return False\n",
    "df['edited'] = df['message'].apply(lambda x: is_edited(x))\n",
    "# Remove <This message was edited>\n",
    "df['message'] = df['message'].apply(lambda x: x.replace(\"<This message was edited>\", \"\"))\n",
    "\n",
    "# Show if message is media\n",
    "def is_media(text: str) -> bool:\n",
    "    return True if re.match(\"<Media omitted>\", text.strip()) else False\n",
    "df['media'] = df['message'].apply(lambda x: \"<Media omitted>\" in x)\n",
    "\n",
    "# Show if message is deleted\n",
    "def is_deleted(text: str) -> bool:\n",
    "    text = text.strip()\n",
    "    return True if re.match(\"This message was deleted\", text) or re.match(\"You deleted this message\", text) else False\n",
    "df['deleted'] = df['message'].apply(lambda x: \"This message was deleted\" in x or \"You deleted this message\" in x)\n",
    "\n",
    "# Show if the message contains a positive mention\n",
    "# First we're defining what we mean by \"positive messages\" in a list\n",
    "positive_patterns = [\n",
    "    r\"\\bi (?:like|love|adore|crave|enjoy|appreciate)\\b\",\n",
    "    r\"\\bi(?:'m| am)? craving\\b\",\n",
    "    r\"\\bi actually (?:like|love|adore|enjoy|appreciate)\\b\",\n",
    "    r\"\\bi(?:'m| am)? actually craving\\b\",\n",
    "    r\"\\bi really (?:like|love|adore|crave|enjoy|appreciate)\\b\",\n",
    "    r\"\\bwe (?:like|love|adore|crave|enjoy|appreciate)\\b\",\n",
    "    r\"\\bwe(?:'re| are)? craving\\b\",\n",
    "    r\"\\bwe actually (?:like|love|adore|enjoy|appreciate)\\b\",\n",
    "    r\"\\bwe(?:'re| are)? actually craving\\b\",\n",
    "    r\"\\bwe really (?:like|love|adore|crave|enjoy|appreciate)\\b\",\n",
    "]\n",
    "# Here, we combine the patterns into 1 big regex expression with OR in between them and make a regex object out of it\n",
    "positive_regex = re.compile(\"|\".join(positive_patterns), re.IGNORECASE)\n",
    "# Add the column \n",
    "df['positive_mentions'] = df['message'].apply(lambda x: bool(positive_regex.search(x.casefold())))\n",
    "\n",
    "# Show if the message contains a negative mention\n",
    "# Same code logic as the positive approach\n",
    "negative_patterns = [\n",
    "    r\"\\bi (hate|dislike|abhore|despise|get annoyed by|find it annoying)\\b\",\n",
    "    r\"\\bi actually (hate|dislike|abhore|despise|get annoyed by|find it annoying)\\b\",\n",
    "    r\"\\bi really (hate|dislike|abhore|despise|get annoyed by|find it annoying)\\b\",\n",
    "    r\"\\bwe (hate|dislike|abhore|despise|get annoyed by|find it annoying)\\b\",\n",
    "    r\"\\bwe actually (hate|dislike|abhore|despise|get annoyed by|find it annoying)\\b\",\n",
    "    r\"\\bwe really (hate|dislike|abhore|despise|get annoyed by|find it annoying)\\b\",\n",
    "    r\"\\bi don't (?:like|love|crave|enjoy|appreciate)\\b\",\n",
    "    r\"\\bi don't really (?:like|love|crave|enjoy|appreciate)\\b\",\n",
    "    r\"\\bwe don't (?:like|love|crave|enjoy|appreciate)\\b\",\n",
    "    r\"\\bwe don't really (?:like|love|crave|enjoy|appreciate)\\b\",\n",
    "    r\"\\bi really don't (?:like|love|crave|enjoy|appreciate)\\b\",\n",
    "    r\"\\bwe really don't (?:like|love|crave|enjoy|appreciate)\\b\",\n",
    "    r\"\\bi actually don't (?:like|love|crave|enjoy|appreciate)\\b\",\n",
    "    r\"\\bwe actually don't (?:like|love|crave|enjoy|appreciate)\\b\",\n",
    "]\n",
    "negative_regex = re.compile(\"|\".join(negative_patterns), re.IGNORECASE)\n",
    "df['negative_mentions'] = df['message'].apply(lambda x: bool(negative_regex.search(x.casefold())))\n",
    "# Potential things to work on in the future:\n",
    "# Maybe make the filtering \"fuzzy\" so it's not as set in stone\n",
    "# Maybe add questions too like \"DO YOU like/hate/whatever\"\n",
    "\n",
    "# Show how many emojis are in the message\n",
    "def count_emojis(text: str) -> int:\n",
    "    if is_media(text) or is_deleted(text):\n",
    "        return -1\n",
    "    return sum(1 for char in text if char in emoji.EMOJI_DATA)    \n",
    "df['emoji_count'] = df['message'].apply(count_emojis)\n",
    "\n",
    "# Show how long the messages are\n",
    "df['char_count'] = df['message'].apply(lambda x: -1 if is_media(x) or is_deleted(x) else len(x))"
   ]
  },
  {
   "cell_type": "markdown",
   "id": "53493858-386b-4825-a598-3ec52cccfb97",
   "metadata": {
    "panel-layout": {
     "height": 44.09375,
     "visible": true,
     "width": 100
    }
   },
   "source": [
    "### Create Measures"
   ]
  },
  {
   "cell_type": "markdown",
   "id": "96bd521c-9216-4147-887f-2a0683d3f4e2",
   "metadata": {},
   "source": [
    "In this section, we are grouping data from the dataframe by the \"name\" column, and calculating things like how many characters/messages/emojis/media each individual has sent, or how many messages each person deleted/edited. This will allow us to create visuals comparing different people according to those different aspects.\n",
    "\n",
    "You can change \"observed=True\" if you want to only include names where you actually find values, so say if someone hasn't sent any messages, they wouldn't be included and therefore not shown later. With it set to \"False\" however, even if someone hasn't sent anything, they will still be included.\n",
    "\n",
    "We're also grouping by date/time to count the messages in each date/time so we can later create visuals showing the relation between messages sent with date/time."
   ]
  },
  {
   "cell_type": "code",
   "execution_count": 8,
   "id": "6a3c12cc-2edc-4741-b37b-6d86df955f9e",
   "metadata": {},
   "outputs": [],
   "source": [
    "# Count how many medias each person has sent\n",
    "media_count = df.groupby('name', observed=False)['media'].sum()\n",
    "\n",
    "# Count how many messages each person has deleted\n",
    "deleted_count = df.groupby('name', observed=False)['deleted'].sum()\n",
    "\n",
    "# Count how many characters each person sent\n",
    "chars_count = df[df['char_count'] > 0].groupby('name', observed=False)['char_count'].sum()\n",
    "\n",
    "# Figure out who sends more emojis\n",
    "emoji_count = df[df['emoji_count'] > 0].groupby('name', observed=False)['emoji_count'].sum()\n",
    "\n",
    "# Figure out who has longer messages on average\n",
    "avg_message_length = df[df['char_count'] > 0].groupby('name', observed=False)['char_count'].mean()\n",
    "\n",
    "# Count how many messages each person has edited\n",
    "edited_count = df.groupby('name', observed=False)['edited'].sum()\n",
    "\n",
    "# Count how many messages were sent per day across a range of dates.\n",
    "# Group data by date and count messages\n",
    "date_message_counts = df.groupby('date').size().reset_index(name='message_count')\n",
    "# Create range for the date to ensure all dates are present rather than just the ones present in the chat\n",
    "date_range = pd.date_range(df['date'].min(), df['date'].max())\n",
    "# Reindex the message_counts DataFrame\n",
    "date_message_counts = date_message_counts.set_index('date').reindex(date_range, fill_value=0).reset_index()\n",
    "date_message_counts.columns = ['date', 'message_count']\n",
    "\n",
    "# Figure out what times of the day the chat is most active in.\n",
    "# Group data by time and count messages\n",
    "time_message_counts = df.groupby('time').size().reset_index(name='message_count')\n",
    "# Create a full range of times (hour:minute) at 1-minute intervals\n",
    "time_range = pd.date_range(\"00:00\", \"23:59\", freq=\"1min\").strftime('%H:%M')\n",
    "# Create a DataFrame for the full range of times rather than just the ones present in the chat\n",
    "time_range_df = pd.DataFrame({'time': time_range})\n",
    "# Merge the full time range with the message counts to ensure all times are present\n",
    "time_message_counts = time_range_df.merge(time_message_counts, on='time', how='left')\n",
    "# Fill missing message counts with 0\n",
    "time_message_counts['message_count'] = time_message_counts['message_count'].fillna(0).astype(int)"
   ]
  },
  {
   "cell_type": "markdown",
   "id": "fd8d4996-790d-4ec6-b9f3-d4b561f96120",
   "metadata": {
    "panel-layout": {
     "height": 60.59375,
     "visible": true,
     "width": 100
    }
   },
   "source": [
    "# Load"
   ]
  },
  {
   "cell_type": "markdown",
   "id": "b2012291-238e-4691-b414-e75d0b1db634",
   "metadata": {
    "panel-layout": {
     "height": 44.09375,
     "visible": true,
     "width": 100
    }
   },
   "source": [
    "### Assert DataFrame as Clean"
   ]
  },
  {
   "cell_type": "markdown",
   "id": "a7b5cce7-19a1-4b2b-89e5-bf45a05adcfc",
   "metadata": {},
   "source": [
    "At this point, we're done making changes to the dataframe, and we're done extracting measures and sub-data frames."
   ]
  },
  {
   "cell_type": "code",
   "execution_count": 9,
   "id": "6959b653-1671-4a18-8d8f-8e61d9edec8f",
   "metadata": {},
   "outputs": [],
   "source": [
    "df_clean = df"
   ]
  },
  {
   "cell_type": "code",
   "execution_count": 10,
   "id": "30028e27-69b2-4bb2-ba45-cd5de2984b31",
   "metadata": {
    "panel-layout": {
     "height": 962,
     "visible": true,
     "width": 100
    },
    "scrolled": true
   },
   "outputs": [
    {
     "data": {
      "text/html": [
       "<div>\n",
       "<style scoped>\n",
       "    .dataframe tbody tr th:only-of-type {\n",
       "        vertical-align: middle;\n",
       "    }\n",
       "\n",
       "    .dataframe tbody tr th {\n",
       "        vertical-align: top;\n",
       "    }\n",
       "\n",
       "    .dataframe thead th {\n",
       "        text-align: right;\n",
       "    }\n",
       "</style>\n",
       "<table border=\"1\" class=\"dataframe\">\n",
       "  <thead>\n",
       "    <tr style=\"text-align: right;\">\n",
       "      <th></th>\n",
       "      <th>date</th>\n",
       "      <th>time</th>\n",
       "      <th>name</th>\n",
       "      <th>message</th>\n",
       "      <th>edited</th>\n",
       "      <th>media</th>\n",
       "      <th>deleted</th>\n",
       "      <th>positive_mentions</th>\n",
       "      <th>negative_mentions</th>\n",
       "      <th>emoji_count</th>\n",
       "      <th>char_count</th>\n",
       "    </tr>\n",
       "  </thead>\n",
       "  <tbody>\n",
       "    <tr>\n",
       "      <th>0</th>\n",
       "      <td>2024-12-17</td>\n",
       "      <td>12:00</td>\n",
       "      <td>Jim</td>\n",
       "      <td>Hi</td>\n",
       "      <td>False</td>\n",
       "      <td>False</td>\n",
       "      <td>False</td>\n",
       "      <td>False</td>\n",
       "      <td>False</td>\n",
       "      <td>0</td>\n",
       "      <td>2</td>\n",
       "    </tr>\n",
       "    <tr>\n",
       "      <th>1</th>\n",
       "      <td>2024-12-18</td>\n",
       "      <td>12:00</td>\n",
       "      <td>Jim</td>\n",
       "      <td>You deleted this message</td>\n",
       "      <td>False</td>\n",
       "      <td>False</td>\n",
       "      <td>True</td>\n",
       "      <td>False</td>\n",
       "      <td>False</td>\n",
       "      <td>-1</td>\n",
       "      <td>-1</td>\n",
       "    </tr>\n",
       "    <tr>\n",
       "      <th>2</th>\n",
       "      <td>2024-12-18</td>\n",
       "      <td>12:00</td>\n",
       "      <td>Jim</td>\n",
       "      <td>&lt;Media omitted&gt;</td>\n",
       "      <td>False</td>\n",
       "      <td>True</td>\n",
       "      <td>False</td>\n",
       "      <td>False</td>\n",
       "      <td>False</td>\n",
       "      <td>-1</td>\n",
       "      <td>-1</td>\n",
       "    </tr>\n",
       "    <tr>\n",
       "      <th>3</th>\n",
       "      <td>2024-12-18</td>\n",
       "      <td>12:01</td>\n",
       "      <td>Carlos</td>\n",
       "      <td>Hi 👀</td>\n",
       "      <td>False</td>\n",
       "      <td>False</td>\n",
       "      <td>False</td>\n",
       "      <td>False</td>\n",
       "      <td>False</td>\n",
       "      <td>1</td>\n",
       "      <td>4</td>\n",
       "    </tr>\n",
       "    <tr>\n",
       "      <th>4</th>\n",
       "      <td>2024-12-18</td>\n",
       "      <td>12:03</td>\n",
       "      <td>Jim</td>\n",
       "      <td>How are you? What have you been up to?</td>\n",
       "      <td>False</td>\n",
       "      <td>False</td>\n",
       "      <td>False</td>\n",
       "      <td>False</td>\n",
       "      <td>False</td>\n",
       "      <td>0</td>\n",
       "      <td>38</td>\n",
       "    </tr>\n",
       "    <tr>\n",
       "      <th>5</th>\n",
       "      <td>2024-12-18</td>\n",
       "      <td>12:04</td>\n",
       "      <td>Carlos</td>\n",
       "      <td>Nothing much Just vibing really</td>\n",
       "      <td>True</td>\n",
       "      <td>False</td>\n",
       "      <td>False</td>\n",
       "      <td>False</td>\n",
       "      <td>False</td>\n",
       "      <td>0</td>\n",
       "      <td>32</td>\n",
       "    </tr>\n",
       "    <tr>\n",
       "      <th>6</th>\n",
       "      <td>2024-12-18</td>\n",
       "      <td>12:10</td>\n",
       "      <td>Jim</td>\n",
       "      <td>Boring</td>\n",
       "      <td>False</td>\n",
       "      <td>False</td>\n",
       "      <td>False</td>\n",
       "      <td>False</td>\n",
       "      <td>False</td>\n",
       "      <td>0</td>\n",
       "      <td>6</td>\n",
       "    </tr>\n",
       "    <tr>\n",
       "      <th>7</th>\n",
       "      <td>2024-12-18</td>\n",
       "      <td>12:10</td>\n",
       "      <td>Jim</td>\n",
       "      <td>&lt;Media omitted&gt;</td>\n",
       "      <td>False</td>\n",
       "      <td>True</td>\n",
       "      <td>False</td>\n",
       "      <td>False</td>\n",
       "      <td>False</td>\n",
       "      <td>-1</td>\n",
       "      <td>-1</td>\n",
       "    </tr>\n",
       "    <tr>\n",
       "      <th>8</th>\n",
       "      <td>2024-12-18</td>\n",
       "      <td>12:12</td>\n",
       "      <td>Carlos</td>\n",
       "      <td>I'm craving some coffee right now</td>\n",
       "      <td>False</td>\n",
       "      <td>False</td>\n",
       "      <td>False</td>\n",
       "      <td>True</td>\n",
       "      <td>False</td>\n",
       "      <td>0</td>\n",
       "      <td>33</td>\n",
       "    </tr>\n",
       "    <tr>\n",
       "      <th>9</th>\n",
       "      <td>2024-12-18</td>\n",
       "      <td>12:13</td>\n",
       "      <td>Jim</td>\n",
       "      <td>Go get some then</td>\n",
       "      <td>False</td>\n",
       "      <td>False</td>\n",
       "      <td>False</td>\n",
       "      <td>False</td>\n",
       "      <td>False</td>\n",
       "      <td>0</td>\n",
       "      <td>16</td>\n",
       "    </tr>\n",
       "  </tbody>\n",
       "</table>\n",
       "</div>"
      ],
      "text/plain": [
       "        date   time    name                                 message  edited  \\\n",
       "0 2024-12-17  12:00     Jim                                      Hi   False   \n",
       "1 2024-12-18  12:00     Jim                You deleted this message   False   \n",
       "2 2024-12-18  12:00     Jim                         <Media omitted>   False   \n",
       "3 2024-12-18  12:01  Carlos                                    Hi 👀   False   \n",
       "4 2024-12-18  12:03     Jim  How are you? What have you been up to?   False   \n",
       "5 2024-12-18  12:04  Carlos        Nothing much Just vibing really     True   \n",
       "6 2024-12-18  12:10     Jim                                  Boring   False   \n",
       "7 2024-12-18  12:10     Jim                         <Media omitted>   False   \n",
       "8 2024-12-18  12:12  Carlos       I'm craving some coffee right now   False   \n",
       "9 2024-12-18  12:13     Jim                        Go get some then   False   \n",
       "\n",
       "   media  deleted  positive_mentions  negative_mentions  emoji_count  \\\n",
       "0  False    False              False              False            0   \n",
       "1  False     True              False              False           -1   \n",
       "2   True    False              False              False           -1   \n",
       "3  False    False              False              False            1   \n",
       "4  False    False              False              False            0   \n",
       "5  False    False              False              False            0   \n",
       "6  False    False              False              False            0   \n",
       "7   True    False              False              False           -1   \n",
       "8  False    False               True              False            0   \n",
       "9  False    False              False              False            0   \n",
       "\n",
       "   char_count  \n",
       "0           2  \n",
       "1          -1  \n",
       "2          -1  \n",
       "3           4  \n",
       "4          38  \n",
       "5          32  \n",
       "6           6  \n",
       "7          -1  \n",
       "8          33  \n",
       "9          16  "
      ]
     },
     "execution_count": 10,
     "metadata": {},
     "output_type": "execute_result"
    }
   ],
   "source": [
    "df_clean.head(10)"
   ]
  },
  {
   "cell_type": "code",
   "execution_count": 11,
   "id": "55cc296d-418b-4c99-a2b4-38b29d96c08c",
   "metadata": {
    "panel-layout": {
     "height": 0,
     "visible": true,
     "width": 100
    }
   },
   "outputs": [
    {
     "name": "stdout",
     "output_type": "stream",
     "text": [
      "<class 'pandas.core.frame.DataFrame'>\n",
      "RangeIndex: 22 entries, 0 to 21\n",
      "Data columns (total 11 columns):\n",
      " #   Column             Non-Null Count  Dtype         \n",
      "---  ------             --------------  -----         \n",
      " 0   date               22 non-null     datetime64[ns]\n",
      " 1   time               22 non-null     object        \n",
      " 2   name               22 non-null     category      \n",
      " 3   message            22 non-null     object        \n",
      " 4   edited             22 non-null     bool          \n",
      " 5   media              22 non-null     bool          \n",
      " 6   deleted            22 non-null     bool          \n",
      " 7   positive_mentions  22 non-null     bool          \n",
      " 8   negative_mentions  22 non-null     bool          \n",
      " 9   emoji_count        22 non-null     int64         \n",
      " 10  char_count         22 non-null     int64         \n",
      "dtypes: bool(5), category(1), datetime64[ns](1), int64(2), object(2)\n",
      "memory usage: 1.2+ KB\n"
     ]
    }
   ],
   "source": [
    "df_clean.info() "
   ]
  },
  {
   "cell_type": "markdown",
   "id": "7767b0d6-82bb-4ee4-821f-4c9c9d253e7f",
   "metadata": {
    "panel-layout": {
     "height": 60.59375,
     "visible": true,
     "width": 100
    }
   },
   "source": [
    "# Analyze and Visualize"
   ]
  },
  {
   "cell_type": "markdown",
   "id": "b5fa8dc6-4fbe-475c-a1ba-7107ee4ee65b",
   "metadata": {},
   "source": [
    "### Create Visuals"
   ]
  },
  {
   "cell_type": "markdown",
   "id": "d57a6c1d-661f-4163-b51d-1b5927dae696",
   "metadata": {},
   "source": [
    "We can now start using the data we've prepared to create visuals that represent aspects of data we wish to analyze."
   ]
  },
  {
   "cell_type": "code",
   "execution_count": 12,
   "id": "07e0e248-8df7-4d8c-b2b8-d6258fe3be48",
   "metadata": {},
   "outputs": [
    {
     "data": {
      "text/html": [
       "<div>\n",
       "<style scoped>\n",
       "    .dataframe tbody tr th:only-of-type {\n",
       "        vertical-align: middle;\n",
       "    }\n",
       "\n",
       "    .dataframe tbody tr th {\n",
       "        vertical-align: top;\n",
       "    }\n",
       "\n",
       "    .dataframe thead th {\n",
       "        text-align: right;\n",
       "    }\n",
       "</style>\n",
       "<table border=\"1\" class=\"dataframe\">\n",
       "  <thead>\n",
       "    <tr style=\"text-align: right;\">\n",
       "      <th></th>\n",
       "      <th>name</th>\n",
       "      <th>date</th>\n",
       "      <th>time</th>\n",
       "      <th>message</th>\n",
       "    </tr>\n",
       "  </thead>\n",
       "  <tbody>\n",
       "    <tr>\n",
       "      <th>8</th>\n",
       "      <td>Carlos</td>\n",
       "      <td>2024-12-18</td>\n",
       "      <td>12:12</td>\n",
       "      <td>I'm craving some coffee right now</td>\n",
       "    </tr>\n",
       "    <tr>\n",
       "      <th>12</th>\n",
       "      <td>Jim</td>\n",
       "      <td>2024-12-19</td>\n",
       "      <td>12:15</td>\n",
       "      <td>I like the company too, so it's great</td>\n",
       "    </tr>\n",
       "    <tr>\n",
       "      <th>14</th>\n",
       "      <td>Carlos</td>\n",
       "      <td>2024-12-19</td>\n",
       "      <td>12:16</td>\n",
       "      <td>There's a great falafel place close by too whi...</td>\n",
       "    </tr>\n",
       "  </tbody>\n",
       "</table>\n",
       "</div>"
      ],
      "text/plain": [
       "      name       date   time  \\\n",
       "8   Carlos 2024-12-18  12:12   \n",
       "12     Jim 2024-12-19  12:15   \n",
       "14  Carlos 2024-12-19  12:16   \n",
       "\n",
       "                                              message  \n",
       "8                   I'm craving some coffee right now  \n",
       "12              I like the company too, so it's great  \n",
       "14  There's a great falafel place close by too whi...  "
      ]
     },
     "execution_count": 12,
     "metadata": {},
     "output_type": "execute_result"
    }
   ],
   "source": [
    "# Filter the DataFrame to show only messages with positive mentions\n",
    "positive_messages_df = df_clean[df_clean['positive_mentions']][['name', 'date', 'time', 'message']]\n",
    "\n",
    "# Filter the DataFrame to show only messages with negative mentions\n",
    "negative_messages_df = df_clean[df_clean['negative_mentions']][['name', 'date', 'time', 'message']]\n",
    "\n",
    "# Show message frequency over time\n",
    "date_message_fig = px.line(\n",
    "    date_message_counts,\n",
    "    x='date',  # x-axis is the date\n",
    "    y='message_count',  # y-axis is the count of messages\n",
    "    title='Messaging Rate Over Time',\n",
    "    labels={'date': '', 'message_count': ''}\n",
    ")\n",
    "\n",
    "# Create a bar plot of message counts over time\n",
    "top_msg_hours_fig = px.bar(\n",
    "    time_message_counts, \n",
    "    x='time', \n",
    "    y='message_count', \n",
    "    title='Chat Activity',\n",
    "    labels={'time': 'Time of Day', 'message_count': ''}\n",
    ")\n",
    "\n",
    "# Show who sent more messages\n",
    "msg_sent_fig = px.histogram(\n",
    "    df_clean, \n",
    "    x='name', \n",
    "    color='name', \n",
    "    title=\"Who sends more messages?\",\n",
    "    labels={\"name\": \"\"}  \n",
    ")\n",
    "msg_sent_fig.update_layout(yaxis_title=\"\")\n",
    "msg_sent_fig.update_layout(showlegend=False)\n",
    "\n",
    "# Show who sent more letters\n",
    "chars_count_df = chars_count.reset_index()\n",
    "chars_count_df.columns = ['name', 'char_count']\n",
    "char_count_fig = px.bar(\n",
    "    chars_count_df,\n",
    "    x='name',\n",
    "    y='char_count',\n",
    "    color='name',\n",
    "    title='Who sent more characters?',\n",
    "    labels={'name': '', 'char_count': ''}\n",
    ")\n",
    "char_count_fig.update_layout(showlegend=False)\n",
    "\n",
    "# Show who deletes more messages\n",
    "deleted_count_df = deleted_count.reset_index()\n",
    "deleted_count_df.columns = ['name', 'deleted_count']\n",
    "deleted_count_fig = px.bar(\n",
    "    deleted_count_df,\n",
    "    x='name',\n",
    "    y='deleted_count',\n",
    "    color='name',\n",
    "    title='Who deleted more messages?',\n",
    "    labels={'name': '', 'deleted_count': ''}\n",
    ")\n",
    "deleted_count_fig.update_layout(showlegend=False)\n",
    "\n",
    "# Show who edits more messages\n",
    "edited_count_df = edited_count.reset_index()\n",
    "edited_count_df.columns = ['name', 'edited_count']\n",
    "edited_count_fig = px.bar(\n",
    "    edited_count_df,\n",
    "    x='name',\n",
    "    y='edited_count',\n",
    "    color='name',\n",
    "    title='Who edited more messages?',\n",
    "    labels={'name': '', 'edited_count': ''}\n",
    ")\n",
    "edited_count_fig.update_layout(showlegend=False)\n",
    "\n",
    "# Show who sends more media\n",
    "media_count_df = media_count.reset_index()\n",
    "media_count_df.columns = ['name', 'media_count']\n",
    "media_count_fig = px.bar(\n",
    "    media_count_df,\n",
    "    x='name',\n",
    "    y='media_count',\n",
    "    color='name',\n",
    "    title='Who sent more media?',\n",
    "    labels={'name': '', 'media_count': ''}\n",
    ")\n",
    "media_count_fig.update_layout(showlegend=False)\n",
    "\n",
    "# Show who sends more emojis\n",
    "emoji_count_df = emoji_count.reset_index()\n",
    "emoji_count_df.columns = ['name', 'emoji_count']\n",
    "emoji_count_fig = px.bar(\n",
    "    emoji_count_df,\n",
    "    x='name',\n",
    "    y='emoji_count',\n",
    "    color='name',\n",
    "    title='Who sent more emojis?',\n",
    "    labels={'name': '', 'emoji_count': ''}\n",
    ")\n",
    "emoji_count_fig.update_layout(showlegend=False)\n",
    "\n",
    "# Potential things to work on in the future:\n",
    "\n",
    "# Show who uses what emojis the most\n",
    "# Show who capitalizes their sentences more\n",
    "# Show who punctuates their sentences more\n",
    "# Show who sends more abbreviated words\n",
    "# Show who makes more gramatical errors\n",
    "# Find out something that has to do with diagnostic statistics\n",
    "# Find out something that has to do with predictive statistics\n",
    "# Find out something that has to do with perscriptive statistics\n",
    "\n",
    "positive_messages_df"
   ]
  },
  {
   "cell_type": "code",
   "execution_count": 13,
   "id": "2efed08e-3599-488c-bc2b-c4dc8bf667f6",
   "metadata": {
    "panel-layout": {
     "height": 65,
     "visible": true,
     "width": 100
    }
   },
   "outputs": [
    {
     "data": {
      "text/html": [
       "<div>\n",
       "<style scoped>\n",
       "    .dataframe tbody tr th:only-of-type {\n",
       "        vertical-align: middle;\n",
       "    }\n",
       "\n",
       "    .dataframe tbody tr th {\n",
       "        vertical-align: top;\n",
       "    }\n",
       "\n",
       "    .dataframe thead th {\n",
       "        text-align: right;\n",
       "    }\n",
       "</style>\n",
       "<table border=\"1\" class=\"dataframe\">\n",
       "  <thead>\n",
       "    <tr style=\"text-align: right;\">\n",
       "      <th></th>\n",
       "      <th>name</th>\n",
       "      <th>date</th>\n",
       "      <th>time</th>\n",
       "      <th>message</th>\n",
       "    </tr>\n",
       "  </thead>\n",
       "  <tbody>\n",
       "    <tr>\n",
       "      <th>10</th>\n",
       "      <td>Carlos</td>\n",
       "      <td>2024-12-18</td>\n",
       "      <td>12:12</td>\n",
       "      <td>I would, but there's only 1 coffee shop near b...</td>\n",
       "    </tr>\n",
       "  </tbody>\n",
       "</table>\n",
       "</div>"
      ],
      "text/plain": [
       "      name       date   time  \\\n",
       "10  Carlos 2024-12-18  12:12   \n",
       "\n",
       "                                              message  \n",
       "10  I would, but there's only 1 coffee shop near b...  "
      ]
     },
     "execution_count": 13,
     "metadata": {},
     "output_type": "execute_result"
    }
   ],
   "source": [
    "negative_messages_df"
   ]
  },
  {
   "cell_type": "markdown",
   "id": "b4d064e3-cba5-4e1f-96cb-ed428b4cf639",
   "metadata": {},
   "source": [
    "### Show Visuals"
   ]
  },
  {
   "cell_type": "code",
   "execution_count": 14,
   "id": "3c6cf04c-9a75-4321-8783-f3b091ec32d8",
   "metadata": {},
   "outputs": [
    {
     "data": {
      "image/png": "[encoded data removed]"
     },
     "metadata": {},
     "output_type": "display_data"
    }
   ],
   "source": [
    "date_message_fig.show()"
   ]
  },
  {
   "cell_type": "code",
   "execution_count": 15,
   "id": "df1abada-4da9-4e36-961e-de1ae940db3b",
   "metadata": {},
   "outputs": [
    {
     "data": {
      "image/png": "[encoded data removed]"
     },
     "metadata": {},
     "output_type": "display_data"
    }
   ],
   "source": [
    "top_msg_hours_fig.show()"
   ]
  },
  {
   "cell_type": "code",
   "execution_count": 16,
   "id": "20ff3360-e48c-4b36-a53c-cd706c5abea0",
   "metadata": {},
   "outputs": [
    {
     "data": {
      "image/png": "[encoded data removed]"
     },
     "metadata": {},
     "output_type": "display_data"
    }
   ],
   "source": [
    "msg_sent_fig.show()"
   ]
  },
  {
   "cell_type": "code",
   "execution_count": 17,
   "id": "e2f59c9c-9b4e-4f1d-a9ce-3180256a99ef",
   "metadata": {},
   "outputs": [
    {
     "data": {
      "image/png": "[encoded data removed]"
     },
     "metadata": {},
     "output_type": "display_data"
    }
   ],
   "source": [
    "char_count_fig.show()"
   ]
  },
  {
   "cell_type": "code",
   "execution_count": 18,
   "id": "6b687841-d5a4-4bbc-88ab-ee19966b2179",
   "metadata": {},
   "outputs": [
    {
     "data": {
      "image/png": "[encoded data removed]"
     },
     "metadata": {},
     "output_type": "display_data"
    }
   ],
   "source": [
    "emoji_count_fig.show()"
   ]
  },
  {
   "cell_type": "code",
   "execution_count": 19,
   "id": "385a58b1-c32a-4430-a78b-0003a4d27c84",
   "metadata": {},
   "outputs": [
    {
     "data": {
      "image/png": "[encoded data removed]"
     },
     "metadata": {},
     "output_type": "display_data"
    }
   ],
   "source": [
    "media_count_fig.show()"
   ]
  },
  {
   "cell_type": "code",
   "execution_count": 20,
   "id": "a9a71d09-dac1-47fc-b909-c501e97b1d07",
   "metadata": {},
   "outputs": [
    {
     "data": {
      "image/png": "[encoded data removed]"
     },
     "metadata": {},
     "output_type": "display_data"
    }
   ],
   "source": [
    "edited_count_fig.show()"
   ]
  },
  {
   "cell_type": "code",
   "execution_count": 21,
   "id": "97389f82-f0b0-4b63-9b85-cf6f61b5bd70",
   "metadata": {},
   "outputs": [
    {
     "data": {
      "image/png": "[encoded data removed]"
     },
     "metadata": {},
     "output_type": "display_data"
    }
   ],
   "source": [
    "deleted_count_fig.show()"
   ]
  }
 ],
 "metadata": {
  "kernelspec": {
   "display_name": "Python 3 (ipykernel)",
   "language": "python",
   "name": "python3"
  },
  "language_info": {
   "codemirror_mode": {
    "name": "ipython",
    "version": 3
   },
   "file_extension": ".py",
   "mimetype": "text/x-python",
   "name": "python",
   "nbconvert_exporter": "python",
   "pygments_lexer": "ipython3",
   "version": "3.12.7"
  },
  "panel-cell-order": [
   "06c20c3e-c73b-434e-9ebb-3c4d789fc87a",
   "36593238-2b55-40a3-a8ef-0b72c89ceb98",
   "93812442-8b1b-451e-957e-698567a7c904",
   "9b57cb01-1064-4ce3-85d9-deb79c1b6456",
   "a0292fa7-d115-49db-9f18-97615cc24ee4",
   "22273c6d-f28e-497e-ae9b-0c101f355904",
   "b132e675-adf2-44b3-80b6-20d881444b51",
   "21e5d270-cd7d-4aa8-96fa-511022ce45bf",
   "53493858-386b-4825-a598-3ec52cccfb97",
   "fd8d4996-790d-4ec6-b9f3-d4b561f96120",
   "b2012291-238e-4691-b414-e75d0b1db634",
   "30028e27-69b2-4bb2-ba45-cd5de2984b31",
   "55cc296d-418b-4c99-a2b4-38b29d96c08c",
   "7767b0d6-82bb-4ee4-821f-4c9c9d253e7f",
   "6d762b7a-1de2-4648-a438-47a20fd83d82",
   "49eccedc-e42f-4303-a496-c0f90990bb49",
   "9c7ee353-f148-473b-b3d0-8e180a1df01b",
   "76ec5e64-2b57-4d31-87f4-bde28a31a5ba",
   "5aa850f5-f370-4b1b-8f17-1421eef1b1cc",
   "b7d7f2bb-51a7-40aa-bba9-fadafced91e6",
   "fc23189e-1b74-4083-b246-a9b3160413ee",
   "2efed08e-3599-488c-bc2b-c4dc8bf667f6",
   "89807bbe-2465-4227-9563-be1fe4766b20",
   "192cd06a-20c2-4101-86ee-180aa476f53e",
   "97ab8dec-007f-4500-8651-d31c7b6e8d6a",
   "f8f52a85-8da8-476e-9a7f-48b123ab8dbc",
   "4d5c0241-03d3-468b-a5c2-9b7c3b6e6e8f",
   "2ea4f902-fc74-4192-8894-8e40c6b52c86",
   "93aa3395-0cc9-451b-af00-00d33da44378",
   "5319b4c3-d008-434e-b85c-29e4596762d5"
  ]
 },
 "nbformat": 4,
 "nbformat_minor": 5
}
